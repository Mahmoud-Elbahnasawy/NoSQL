{
 "cells": [
  {
   "cell_type": "markdown",
   "metadata": {
    "editable": true
   },
   "source": [
    "# Part I. ETL Pipeline for Pre-Processing the Files"
   ]
  },
  {
   "cell_type": "markdown",
   "metadata": {
    "editable": true
   },
   "source": [
    "#### Import Python packages "
   ]
  },
  {
   "cell_type": "code",
   "execution_count": 1,
   "metadata": {
    "editable": true
   },
   "outputs": [],
   "source": [
    "# Import Python packages \n",
    "import pandas as pd\n",
    "import cassandra\n",
    "import re\n",
    "import os\n",
    "import glob\n",
    "import numpy as np\n",
    "import json\n",
    "import csv"
   ]
  },
  {
   "cell_type": "markdown",
   "metadata": {
    "editable": true
   },
   "source": [
    "#### Creating list of filepaths to process original event csv data files"
   ]
  },
  {
   "cell_type": "code",
   "execution_count": 2,
   "metadata": {
    "editable": true
   },
   "outputs": [
    {
     "name": "stdout",
     "output_type": "stream",
     "text": [
      "/home/workspace\n",
      "/home/workspace/event_data\n"
     ]
    }
   ],
   "source": [
    "# checking current working directory\n",
    "print(os.getcwd())\n",
    "\n",
    "# Get current folder and subfolder event data\n",
    "filepath = os.getcwd() + '/event_data'\n",
    "print(filepath)\n",
    "# Create a for loop to create a list of files and collect each filepath\n",
    "for root, dirs, files in os.walk(filepath):\n",
    "# join the file path and roots with the subdirectories using glob\n",
    "    file_path_list = glob.glob(os.path.join(root,'*'))\n",
    "    #print(file_path_list)\n"
   ]
  },
  {
   "cell_type": "markdown",
   "metadata": {
    "editable": true
   },
   "source": [
    "#### Processing the files to create the data file csv that will be used for Apache Casssandra tables"
   ]
  },
  {
   "cell_type": "code",
   "execution_count": 3,
   "metadata": {
    "editable": true
   },
   "outputs": [
    {
     "name": "stdout",
     "output_type": "stream",
     "text": [
      "The total amount of found rows are  8056\n",
      "the total found file are 30 files\n"
     ]
    }
   ],
   "source": [
    "# initiating an empty list of rows that will be generated from each file\n",
    "full_data_rows_list = [] \n",
    "    \n",
    "# for every filepath in the file path list\n",
    "file_counter =0             #to count the number of files in the directory\n",
    "for f in file_path_list:\n",
    "# reading csv file \n",
    "    with open(f, 'r', encoding = 'utf8', newline='') as csvfile: \n",
    "        file_counter+=1\n",
    "        # creating a csv reader object \n",
    "        csvreader = csv.reader(csvfile) \n",
    "        next(csvreader)\n",
    "        \n",
    " # extracting each data row one by one and append it        \n",
    "        for line in csvreader:\n",
    "            full_data_rows_list.append(line)\n",
    "# The total number of found rows & files\n",
    "print(\"The total amount of found rows are \",len(full_data_rows_list))\n",
    "print(f\"the total found file are {file_counter} files\")\n",
    "# uncomment the code below if you would like to check to see what the list of event data rows will look like\n",
    "#print(full_data_rows_list)\n",
    "\n",
    "# creating a smaller event data csv file called event_datafile_full csv that will be used to insert data into the \\\n",
    "# Apache Cassandra tables\n",
    "\n",
    "csv.register_dialect('myDialect', quoting=csv.QUOTE_ALL, skipinitialspace=True)\n",
    "\n",
    "with open('event_datafile_new.csv', 'w', encoding = 'utf8', newline='') as f:\n",
    "    writer = csv.writer(f, dialect='myDialect')\n",
    "    writer.writerow(['artist',\n",
    "                     'firstName',\n",
    "                     'gender',\n",
    "                     'itemInSession',\n",
    "                     'lastName',\n",
    "                     'length',\n",
    "                     'level',\n",
    "                     'location',\n",
    "                     'sessionId',\n",
    "                     'song',\n",
    "                     'userId'])\n",
    "    for row in full_data_rows_list:\n",
    "        if (row[0] == ''):\n",
    "            continue\n",
    "        writer.writerow((row[0],\n",
    "                         row[2],\n",
    "                         row[3],\n",
    "                         row[4],\n",
    "                         row[5],\n",
    "                         row[6],\n",
    "                         row[7],\n",
    "                         row[8],\n",
    "                         row[12],\n",
    "                         row[13],\n",
    "                         row[16]))"
   ]
  },
  {
   "cell_type": "code",
   "execution_count": 4,
   "metadata": {
    "editable": true
   },
   "outputs": [],
   "source": [
    "#print(full_data_rows_list)"
   ]
  },
  {
   "cell_type": "code",
   "execution_count": 5,
   "metadata": {
    "editable": true,
    "scrolled": true
   },
   "outputs": [
    {
     "name": "stdout",
     "output_type": "stream",
     "text": [
      "6821\n"
     ]
    }
   ],
   "source": [
    "# check the number of rows in csv file\n",
    "with open('event_datafile_new.csv', 'r', encoding = 'utf8') as f:\n",
    "    print(sum(1 for line in f))"
   ]
  },
  {
   "cell_type": "markdown",
   "metadata": {
    "editable": true
   },
   "source": [
    "# Part II. Complete the Apache Cassandra coding portion of your project. \n",
    "\n",
    "# The event_datafile_new.csv contains the following columns: \n",
    "- artist \n",
    "- firstName of user\n",
    "- gender of user\n",
    "- item number in session\n",
    "- last name of user\n",
    "- length of the song\n",
    "- level (paid or free song)\n",
    "- location of the user\n",
    "- sessionId\n",
    "- song title\n",
    "- userId"
   ]
  },
  {
   "cell_type": "markdown",
   "metadata": {
    "editable": true
   },
   "source": [
    "#### Creating a Cluster"
   ]
  },
  {
   "cell_type": "code",
   "execution_count": 6,
   "metadata": {
    "editable": true
   },
   "outputs": [],
   "source": [
    "from cassandra.cluster import Cluster\n",
    "cluster = Cluster()\n",
    "\n",
    "# To establish connection and begin executing queries, need a session\n",
    "session = cluster.connect()"
   ]
  },
  {
   "cell_type": "markdown",
   "metadata": {
    "editable": true
   },
   "source": [
    "#### Create Keyspace"
   ]
  },
  {
   "cell_type": "code",
   "execution_count": 7,
   "metadata": {
    "editable": true
   },
   "outputs": [],
   "source": [
    "\n",
    "try:\n",
    "    session.execute(\"\"\"\n",
    "    CREATE KEYSPACE IF NOT EXISTS music_keyspace \n",
    "    WITH REPLICATION = \n",
    "    { 'class' : 'SimpleStrategy', 'replication_factor' : 1 }\"\"\"\n",
    ")\n",
    "\n",
    "except Exception as e:\n",
    "    print(e)"
   ]
  },
  {
   "cell_type": "markdown",
   "metadata": {
    "editable": true
   },
   "source": [
    "#### Set Keyspace"
   ]
  },
  {
   "cell_type": "code",
   "execution_count": 8,
   "metadata": {
    "editable": true
   },
   "outputs": [],
   "source": [
    "#Set KEYSPACE to the keyspace specified above\n",
    "try:\n",
    "    session.set_keyspace('music_keyspace')\n",
    "except Exception as e:\n",
    "    print(e)"
   ]
  },
  {
   "cell_type": "markdown",
   "metadata": {
    "editable": true
   },
   "source": [
    "## Create queries to ask the following three questions of the data\n",
    "\n",
    "### 1. Give me the artist, song title and song's length in the music app history that was heard during  sessionId = 338, and itemInSession  = 4\n",
    "\n",
    "\n",
    "### 2. Give me only the following: name of artist, song (sorted by itemInSession) and user (first and last name) for userid = 10, sessionid = 182\n",
    "    \n",
    "\n",
    "### 3. Give me every user name (first and last) in my music app history who listened to the song 'All Hands Against His Own'\n",
    "\n",
    "\n"
   ]
  },
  {
   "cell_type": "code",
   "execution_count": 9,
   "metadata": {
    "editable": true
   },
   "outputs": [
    {
     "data": {
      "text/plain": [
       "False"
      ]
     },
     "execution_count": 9,
     "metadata": {},
     "output_type": "execute_result"
    }
   ],
   "source": [
    "# here i will choose my primary key to be session_id ,iteminsession \n",
    "# but i want to check for its duplcation\n",
    "df = pd.read_csv('event_datafile_new.csv')[['itemInSession','sessionId']]\n",
    "df['itemInSession'] = df['itemInSession'].apply(str)\n",
    "df['sessionId'] = df['sessionId'].apply(str)\n",
    "df['check for duplication']=df['itemInSession']+','+df['sessionId']\n",
    "df['check for duplication'].duplicated().any()\n",
    "#if false we can make sure that from the source of data we never have the same \n",
    "#iteminsession with sessionid for more than one time  "
   ]
  },
  {
   "cell_type": "code",
   "execution_count": 10,
   "metadata": {
    "editable": true
   },
   "outputs": [],
   "source": [
    "# creating the table to answer question 1\n",
    "# the query has a pertition key sessionId and a clustering column itemInSession and they were choosen to:\n",
    "# - optimize the select statement (low latency) and was set after the where condition\n",
    "# - prevent any duplication so as not to lose any row of source data because apache \n",
    "#   cassandra would overwrite a duplicated row\n",
    "song_log_create_query = \"\"\"\n",
    "CREATE TABLE IF NOT EXISTS song_log \n",
    "(\n",
    "session_id int,\n",
    "iteminsession int,\n",
    "artist text,\n",
    "song_title text,\n",
    "song_length float,\n",
    "PRIMARY KEY (session_id,iteminsession)\n",
    ")\n",
    "\"\"\"\n",
    "try:\n",
    "    session.execute(song_log_create_query)\n",
    "except Exception as e :\n",
    "    print(e)\n"
   ]
  },
  {
   "cell_type": "code",
   "execution_count": 11,
   "metadata": {
    "editable": true
   },
   "outputs": [],
   "source": [
    "# here is to insert the data into specified columns\n",
    "file = 'event_datafile_new.csv'\n",
    "\n",
    "with open(file, encoding = 'utf8') as f:\n",
    "    csvreader = csv.reader(f)\n",
    "    next(csvreader) # skip header\n",
    "    for line in csvreader:\n",
    "# the insert query to insert data in columns        \n",
    "        query = \"\"\"INSERT INTO song_log (\n",
    "                                        session_id,\n",
    "                                        iteminsession,\n",
    "                                        artist,\n",
    "                                        song_title,\n",
    "                                        song_length\n",
    "                                        )\"\"\"\n",
    "        query = query + \"VALUES (%s,%s,%s,%s,%s)\"\n",
    "# choosing which value from the file 'event_datafile_new.csv' would be assigned for each column of our dataset\n",
    "        session.execute(query, (\n",
    "                                int(line[8]),\n",
    "                                int(line[3]),\n",
    "                                line[0],\n",
    "                                line[9],\n",
    "                                float(line[5])\n",
    "                                ))\n"
   ]
  },
  {
   "cell_type": "markdown",
   "metadata": {
    "editable": true
   },
   "source": [
    "#### Do a SELECT to verify that the data have been inserted into each table"
   ]
  },
  {
   "cell_type": "code",
   "execution_count": 12,
   "metadata": {
    "editable": true
   },
   "outputs": [
    {
     "name": "stdout",
     "output_type": "stream",
     "text": [
      "Faithless Music Matters (Mark Knight Dub) 495.30731201171875\n"
     ]
    }
   ],
   "source": [
    "# The SELECT statement to verify the data was entered into the table\n",
    "query = \"\"\"\n",
    "    SELECT artist , song_title , song_length \n",
    "    from song_log\n",
    "    where session_id = 338 and\n",
    "    iteminsession = 4\"\"\"\n",
    "try:\n",
    "    rows = session.execute(query)\n",
    "except Exception as e:\n",
    "    print(e)\n",
    "for row in rows:         # to print the selected output\n",
    "    print(row.artist , row.song_title , row.song_length)\n"
   ]
  },
  {
   "cell_type": "code",
   "execution_count": 13,
   "metadata": {
    "editable": true
   },
   "outputs": [
    {
     "data": {
      "text/plain": [
       "True"
      ]
     },
     "execution_count": 13,
     "metadata": {},
     "output_type": "execute_result"
    }
   ],
   "source": [
    "# here i will choose my primary key to be user_id,session_id \n",
    "# but i want to check for its duplcation\n",
    "df = pd.read_csv('event_datafile_new.csv')[['userId','sessionId']]\n",
    "df['userId'] = df['userId'].apply(str)\n",
    "df['sessionId'] = df['sessionId'].apply(str)\n",
    "df['check for duplication']=df['userId']+','+df['sessionId']\n",
    "df['check for duplication'].duplicated().any()\n",
    "#if false we can make sure that from the source of data we never have the same \n",
    "#iteminsession with sessionid for more than one time  \n",
    "# if true we have to use one more partition column so that to get the total source data without overwriting"
   ]
  },
  {
   "cell_type": "code",
   "execution_count": 14,
   "metadata": {
    "editable": true
   },
   "outputs": [
    {
     "data": {
      "text/plain": [
       "True"
      ]
     },
     "execution_count": 14,
     "metadata": {},
     "output_type": "execute_result"
    }
   ],
   "source": [
    "# here i will choose my primary key to be user_id,itemInSession\n",
    "df = pd.read_csv('event_datafile_new.csv')[['userId','itemInSession']]\n",
    "df['userId'] = df['userId'].apply(str)\n",
    "df['itemInSession'] = df['itemInSession'].apply(str)\n",
    "df['check for duplication']=df['userId']+','+df['itemInSession']\n",
    "df['check for duplication'].duplicated().any()"
   ]
  },
  {
   "cell_type": "code",
   "execution_count": 15,
   "metadata": {
    "editable": true
   },
   "outputs": [
    {
     "data": {
      "text/plain": [
       "False"
      ]
     },
     "execution_count": 15,
     "metadata": {},
     "output_type": "execute_result"
    }
   ],
   "source": [
    "# here i will choose my primary key to be user_id,session_id,iteminsession\n",
    "# but i want to check for its duplcation\n",
    "df = pd.read_csv('event_datafile_new.csv')[['userId','sessionId','itemInSession']]\n",
    "df['userId'] = df['userId'].apply(str)\n",
    "df['sessionId'] = df['sessionId'].apply(str)\n",
    "df['itemInSession'] = df['itemInSession'].apply(str)\n",
    "df['check for duplication']=df['userId']+','+df['sessionId']+','+df['itemInSession']\n",
    "df['check for duplication'].duplicated().any()\n",
    "#if false we can make sure that from the source of data we never have the same \n",
    "#iteminsession with sessionid for more than one time  \n",
    "# if true we have to use one more partition column so that to get the total source data without overwriting"
   ]
  },
  {
   "cell_type": "code",
   "execution_count": 16,
   "metadata": {
    "editable": true
   },
   "outputs": [],
   "source": [
    "# creating the table to answer question 2\n",
    "# the query has a pertition key userId and a clustering column sessionId and itemInSession and they were choosen to:\n",
    "# - optimize the select statement (low latency) and was set after the where condition\n",
    "# - prevent any duplication so as not to lose any row of source data because apache \n",
    "#   cassandra would overwrite a duplicated row\n",
    "artist_song_user_create_query = \"\"\"\n",
    "CREATE TABLE IF NOT EXISTS artist_song_user \n",
    "(\n",
    "userId int,\n",
    "sessionId int,\n",
    "itemInSession int,\n",
    "artist text,\n",
    "song_title text,\n",
    "user_first_name text,\n",
    "user_last_name text,\n",
    "PRIMARY KEY ((userId,sessionId),itemInSession)\n",
    ")\n",
    "\"\"\"\n",
    "try:\n",
    "    session.execute(artist_song_user_create_query)\n",
    "except Exception as e :\n",
    "    print(e)"
   ]
  },
  {
   "cell_type": "code",
   "execution_count": 17,
   "metadata": {
    "editable": true
   },
   "outputs": [],
   "source": [
    "# here is to insert the data into specified columns\n",
    "\n",
    "file = 'event_datafile_new.csv'\n",
    "\n",
    "with open(file, encoding = 'utf8') as f:\n",
    "    csvreader = csv.reader(f)\n",
    "    next(csvreader) # skip header\n",
    "    for line in csvreader:\n",
    "\n",
    "        query = \"\"\"INSERT INTO artist_song_user (userId,\n",
    "                                                sessionId,\n",
    "                                                itemInSession,\n",
    "                                                artist,\n",
    "                                                song_title,\n",
    "                                                user_first_name,\n",
    "                                                user_last_name\n",
    "                                                )\"\"\"\n",
    "        query = query + \"VALUES (%s,%s,%s,%s,%s,%s,%s)\"\n",
    "# choosing which value from the file 'event_datafile_new.csv' would be assigned for each column of our dataset        \n",
    "        try:\n",
    "            session.execute(query, (\n",
    "                                    int(line[10]),\n",
    "                                    int(line[8]),\n",
    "                                    int(line[3]),\n",
    "                                    line[0],\n",
    "                                    line[9],\n",
    "                                    line[1],\n",
    "                                    line[4]\n",
    "                                    ))\n",
    "        except Exception as e:\n",
    "            print(e)\n"
   ]
  },
  {
   "cell_type": "code",
   "execution_count": 18,
   "metadata": {
    "editable": true
   },
   "outputs": [
    {
     "name": "stdout",
     "output_type": "stream",
     "text": [
      "Down To The Bone , Keep On Keepin' On , Sylvie , Cruz\n",
      "Three Drives , Greece 2000 , Sylvie , Cruz\n",
      "Sebastien Tellier , Kilometer , Sylvie , Cruz\n",
      "Lonnie Gordon , Catch You Baby (Steve Pitron & Max Sanna Radio Edit) , Sylvie , Cruz\n"
     ]
    }
   ],
   "source": [
    "# select statement to verify that data was entered correctly\n",
    "query = \"\"\"\n",
    "    SELECT artist , song_title , user_first_name , user_last_name\n",
    "    from artist_song_user\n",
    "    where userId = 10 and\n",
    "    sessionId = 182\n",
    "    \"\"\"\n",
    "try:\n",
    "    rows = session.execute(query)\n",
    "except Exception as e:\n",
    "    print(e)\n",
    "for row in rows:               # to print selected columns\n",
    "    print(row.artist ,\",\", row.song_title ,\",\", row.user_first_name,\",\",row.user_last_name)\n",
    " "
   ]
  },
  {
   "cell_type": "code",
   "execution_count": 19,
   "metadata": {
    "editable": true
   },
   "outputs": [
    {
     "data": {
      "text/plain": [
       "True"
      ]
     },
     "execution_count": 19,
     "metadata": {},
     "output_type": "execute_result"
    }
   ],
   "source": [
    "# i will have to use song ,sessionid and iteminsession(as a primary key) to check for duplication\n",
    "df = pd.read_csv('event_datafile_new.csv')[['song','userId']]\n",
    "df['userId']=df['userId'].apply(str)\n",
    "df['check for duplication']=df['song']+df['userId']\n",
    "df['check for duplication'].duplicated().any()\n",
    "#df.head()\n",
    "#if false we can make sure that from the source of data we never have the same \n",
    "#iteminsession with sessionid for more than one time  \n",
    "# if true we have to use one more partition column so that to get the total source data without overwriting"
   ]
  },
  {
   "cell_type": "code",
   "execution_count": 20,
   "metadata": {
    "editable": true
   },
   "outputs": [],
   "source": [
    "# Although there is duplicates but here we just only want to get which user listened to a certain song. It doesn't matter how many times or when.\n",
    "# so i will keep using of only song and userId as the primary key "
   ]
  },
  {
   "cell_type": "code",
   "execution_count": 21,
   "metadata": {
    "editable": true
   },
   "outputs": [],
   "source": [
    "# creating the table to answer question 3\n",
    "# the query has a pertition key song and a clustering column sessionId and itemInSession and they were choosen to:\n",
    "# - optimize the select statement (low latency) and was set after the where condition\n",
    "# - prevent any duplication so as not to lose any row of source data because apache \n",
    "#   cassandra would overwrite a duplicated row\n",
    "\n",
    "user_song_create_query = \"\"\"\n",
    "CREATE TABLE IF NOT EXISTS user_song \n",
    "(\n",
    "song text,\n",
    "userId int,\n",
    "user_first_name text,\n",
    "user_last_name text,\n",
    "PRIMARY KEY (song,userId)  \n",
    ")\n",
    "\"\"\"\n",
    "try:\n",
    "    session.execute(user_song_create_query)\n",
    "except Exception as e :\n",
    "    print(e)\n",
    "                    "
   ]
  },
  {
   "cell_type": "code",
   "execution_count": 22,
   "metadata": {
    "editable": true
   },
   "outputs": [],
   "source": [
    "# here is to insert the data into specified columns\n",
    "\n",
    "file = 'event_datafile_new.csv'\n",
    "\n",
    "with open(file, encoding = 'utf8') as f:\n",
    "    csvreader = csv.reader(f)\n",
    "    next(csvreader) # skip header\n",
    "    for line in csvreader:\n",
    "\n",
    "        query = \"\"\"INSERT INTO user_song \n",
    "                                        (\n",
    "                                        song,\n",
    "                                        userId,\n",
    "                                        user_first_name,\n",
    "                                        user_last_name\n",
    "                                         )\"\"\"\n",
    "        query = query + \"VALUES (%s,%s,%s,%s)\"\n",
    "# choosing which value from the file 'event_datafile_new.csv' would be assigned for each column of our dataset      \n",
    "        session.execute(query,(\n",
    "                               line[9],\n",
    "                               int(line[10]),\n",
    "                               line[1],\n",
    "                               line[4]\n",
    "                                ))\n"
   ]
  },
  {
   "cell_type": "code",
   "execution_count": 23,
   "metadata": {
    "editable": true
   },
   "outputs": [
    {
     "name": "stdout",
     "output_type": "stream",
     "text": [
      "Jacqueline , Lynch\n",
      "Tegan , Levine\n",
      "Sara , Johnson\n"
     ]
    }
   ],
   "source": [
    "# The SELECT statement to verify the data was loaded into our dataset\n",
    "query = \"\"\"\n",
    "    SELECT user_first_name , user_last_name\n",
    "    from user_song\n",
    "    where song = 'All Hands Against His Own'\n",
    "    \"\"\"\n",
    "try:\n",
    "    rows = session.execute(query)\n",
    "except Exception as e:\n",
    "    print(e)\n",
    "for row in rows:               # print the selected columns\n",
    "    print(row.user_first_name,\",\",row.user_last_name)\n",
    " "
   ]
  },
  {
   "cell_type": "markdown",
   "metadata": {
    "editable": true
   },
   "source": [
    "### Drop the tables before closing out the sessions"
   ]
  },
  {
   "cell_type": "code",
   "execution_count": 24,
   "metadata": {
    "editable": true
   },
   "outputs": [],
   "source": [
    "query = [\"drop table IF EXISTS song_log\",\"drop table IF EXISTS artist_song_user\",\"drop table IF EXISTS user_song\"]\n",
    "try:\n",
    "    for i in range(3):\n",
    "        session.execute(query[i])\n",
    "except Exception as e:\n",
    "    print(e)\n"
   ]
  },
  {
   "cell_type": "markdown",
   "metadata": {
    "editable": true
   },
   "source": [
    "### Closing the session and cluster connection¶"
   ]
  },
  {
   "cell_type": "code",
   "execution_count": 25,
   "metadata": {
    "editable": true
   },
   "outputs": [],
   "source": [
    "session.shutdown()\n",
    "cluster.shutdown()"
   ]
  }
 ],
 "metadata": {
  "kernelspec": {
   "display_name": "Python 3",
   "language": "python",
   "name": "python3"
  },
  "language_info": {
   "codemirror_mode": {
    "name": "ipython",
    "version": 3
   },
   "file_extension": ".py",
   "mimetype": "text/x-python",
   "name": "python",
   "nbconvert_exporter": "python",
   "pygments_lexer": "ipython3",
   "version": "3.6.3"
  }
 },
 "nbformat": 4,
 "nbformat_minor": 4
}
